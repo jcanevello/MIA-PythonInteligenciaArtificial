{
  "nbformat": 4,
  "nbformat_minor": 0,
  "metadata": {
    "colab": {
      "provenance": [],
      "authorship_tag": "ABX9TyO53K3SQ7lranu0V/awintV",
      "include_colab_link": true
    },
    "kernelspec": {
      "name": "python3",
      "display_name": "Python 3"
    },
    "language_info": {
      "name": "python"
    }
  },
  "cells": [
    {
      "cell_type": "markdown",
      "metadata": {
        "id": "view-in-github",
        "colab_type": "text"
      },
      "source": [
        "<a href=\"https://colab.research.google.com/github/jcanevello/MIA-PythonInteligenciaArtificial/blob/master/01MAIR_ACT_Video_Jean_Canevello.ipynb\" target=\"_parent\"><img src=\"https://colab.research.google.com/assets/colab-badge.svg\" alt=\"Open In Colab\"/></a>"
      ]
    },
    {
      "cell_type": "markdown",
      "source": [
        "<img src=\"../img/viu_logo.png\" width=\"200\">\n",
        "\n",
        "##Alumno: Jean Canevello Salazar\n",
        "\n",
        "## 01MIAR - Actividad Video Valenbici\n",
        "\n",
        "## NumPy y Pandas\n",
        "\n",
        "### Objetivos:\n",
        "- Aplicar diferentes técnicas de tratamiento de estructuras numéricas con Numpy y datos estructurados con Pandas.\n",
        "\n",
        "### Instrucciones:\n",
        "- Crear un notebook de Python3 que servirá como entrega de la actividad.\n",
        "- Separar bien los apartados propuestos con celdas Markdown.\n",
        "- Mantener una estructura limpia, comentando código y secuenciando los apartados con el código correspondiente que resuelva la actividad.\n",
        "- Como criterio de evaluación se tendrá en cuenta el resultado, la consecución del mismo, estilo, comentarios y adecuación. Siempre será tenido en cuenta cualquier detalle técnico avanzado o no visto en clase relacionado con el tema (explicar el porqué y usabilidad).\n",
        "- No está permitido compartir los resultados ni el código en ninguno de los foros.\n",
        "- Revisar los temas 3 y 4, así como las sesiones sobre Numpy y Pandas para aplicar dichos contenidos.\n",
        "\n",
        "### Entrega:\n",
        "- Un solo documento en formato notebook: .ipynb\n",
        "- Las entregas sólo serán validas si se realizan a través del site de la asignatura: Actividades, Actividad Video.\n",
        "\n",
        "### Evaluación\n",
        "- Esta actividad corresponde con el 10% de la nota final de la asignatura.\n",
        "\n",
        "### Fecha Entrega\n",
        "- Convocatoria 1 - 12/12/2022\n",
        "- Convocatoria 2 - 06/03/2023"
      ],
      "metadata": {
        "id": "u-xQH0pNLlfR"
      }
    },
    {
      "cell_type": "markdown",
      "source": [
        "#### Descripción\n",
        "El conjunto de datos \"estaciones_bici.csv\" (fichero disponible en carpeta videos/res en drive) proviene de una descarga de datos del servicio web de la empresa municipal Valenbici, dedicada al alquiler de bicicletas en Valencia.\n",
        "\n",
        "Los datos recabados de este servicio web son de mediciones cada 15 minutos de cada una de las estaciones disponibles:\n",
        "\n",
        "http://www.valenbisi.es/service/carto/json\n",
        "\n",
        "Cada estación está compuesta por un número variable de bornetas (total) donde se pueden anclar las bicicletas. Los datos obtenidos de cada estación (registros) refleja el número de bornetas libres (free) y el número de bicicletas disponibles (available).\n",
        "\n",
        "http://www.valenbisi.es/service/stationdetails/valence/[número de estación]\n",
        "\n",
        "#### Columnas para trabajar:\n",
        "- station: id de la estación\n",
        "- total: número total de bornetas\n",
        "- download_date: timestamp de la descarga de datos\n",
        "- available: número de bicis disponibles\n",
        "\n",
        "#### Actividad\n",
        "- 01 - Carga de datos de csv (estaciones_bici.csv) en un DataFrame\n",
        "- 02 - Obtención del número de estaciones que tienen un total de 30 bornetas\n",
        "- 03 - Número de estación con la media más alta de bicis disponibles\n",
        "- 04 - Realizar el histograma de bicis disponibles de la estación del punto anterior\n",
        "- 05 - Realizar gráfica con  la línea temporal de bicis disponibles de la estación del punto anterior. Pista, es necesario cambiar el índice a uno tipo fecha"
      ],
      "metadata": {
        "id": "7ytrmwkfLj9s"
      }
    },
    {
      "cell_type": "markdown",
      "source": [
        "---\n",
        "# 00 - Importando librerías"
      ],
      "metadata": {
        "id": "mp81gawOmai6"
      }
    },
    {
      "cell_type": "code",
      "source": [
        "import pandas as pd\n",
        "import numpy as np\n",
        "import matplotlib.pyplot as plot"
      ],
      "metadata": {
        "id": "GT1sJ-a3l1o-"
      },
      "execution_count": 1,
      "outputs": []
    },
    {
      "cell_type": "markdown",
      "source": [
        "# 01 - Carga de datos de csv (estaciones_bici.csv) en un DataFrame"
      ],
      "metadata": {
        "id": "yUL7N-5ImGI6"
      }
    },
    {
      "cell_type": "code",
      "source": [
        "#define el nombre de las cabeceras del csv\n",
        "columns_name = ['index','id','available','connected','download_date','station','free','open','ticket','total','updated']\n",
        "\n",
        "#define el tipo de dato de cada columna a excepción de los date\n",
        "columns_type = {\n",
        "      'index':        np.dtype('int'),\n",
        "      'id':           np.dtype('O'),\n",
        "      'available':    np.dtype('int'),\n",
        "      'connected':    np.dtype('int'),\n",
        "      'station':      np.dtype('int'),\n",
        "      'free':         np.dtype('int'),\n",
        "      'open':         np.dtype('int'),\n",
        "      'ticket':       np.dtype('int'),\n",
        "      'total':        np.dtype('int'),\n",
        "    }\n",
        "    \n",
        "#lista de columnas de tipo datetime\n",
        "columns_date = ['download_date', 'updated']\n",
        "\n",
        "#utilizamos la función read_csv para leer el archivo\n",
        "df_read = pd.read_csv('estaciones_bici.csv', # nombre del archivo\n",
        "                      sep=';', #identifica el valor de cada columna separado por ';'\n",
        "                      header=0, #ignora la cabecera que tiene el archivo\n",
        "                      names=columns_name,  #utiliza los nombres de la lista columns_name como nombre de las columnas\n",
        "                      index_col='index', #define el nombre del index del dataframe como 'index'\n",
        "                      dtype=columns_type, #utiliza la lista columns_type como los tipos de datos de cada columna\n",
        "                      parse_dates=columns_date #identifica como tipo de dato datetime a los nombre de columnas de la lista columns_date\n",
        "                      )\n",
        "\n",
        "#filtra las variables de interés\n",
        "df_station = df_read[['station', 'total', 'download_date', 'available']]\n",
        "\n",
        "#mostramos los datos con los que vamos a trabajar\n",
        "display(df_station)"
      ],
      "metadata": {
        "colab": {
          "base_uri": "https://localhost:8080/",
          "height": 455
        },
        "id": "25LepVjMmyJa",
        "outputId": "391c12f9-a707-4060-c08d-c8b50f630d01"
      },
      "execution_count": 2,
      "outputs": [
        {
          "output_type": "display_data",
          "data": {
            "text/plain": [
              "       station  total           download_date  available\n",
              "index                                                   \n",
              "0           64     20 2019-02-10 17:25:37.787          9\n",
              "1           73     20 2019-02-10 17:25:37.787          6\n",
              "2           63     20 2019-02-10 18:13:39.827         20\n",
              "3           64     20 2019-02-10 18:13:39.827          6\n",
              "4           65     19 2019-02-10 18:13:39.827          9\n",
              "...        ...    ...                     ...        ...\n",
              "27542      260     20 2019-02-11 23:44:00.786          0\n",
              "27543      261     19 2019-02-11 23:44:00.786         15\n",
              "27544      268     10 2019-02-11 23:44:00.786          1\n",
              "27545      269     15 2019-02-11 23:44:00.786          1\n",
              "27546      276     20 2019-02-11 23:44:00.786          8\n",
              "\n",
              "[27547 rows x 4 columns]"
            ],
            "text/html": [
              "\n",
              "  <div id=\"df-fd856e6e-e559-4245-b5ee-5e6470c876e4\">\n",
              "    <div class=\"colab-df-container\">\n",
              "      <div>\n",
              "<style scoped>\n",
              "    .dataframe tbody tr th:only-of-type {\n",
              "        vertical-align: middle;\n",
              "    }\n",
              "\n",
              "    .dataframe tbody tr th {\n",
              "        vertical-align: top;\n",
              "    }\n",
              "\n",
              "    .dataframe thead th {\n",
              "        text-align: right;\n",
              "    }\n",
              "</style>\n",
              "<table border=\"1\" class=\"dataframe\">\n",
              "  <thead>\n",
              "    <tr style=\"text-align: right;\">\n",
              "      <th></th>\n",
              "      <th>station</th>\n",
              "      <th>total</th>\n",
              "      <th>download_date</th>\n",
              "      <th>available</th>\n",
              "    </tr>\n",
              "    <tr>\n",
              "      <th>index</th>\n",
              "      <th></th>\n",
              "      <th></th>\n",
              "      <th></th>\n",
              "      <th></th>\n",
              "    </tr>\n",
              "  </thead>\n",
              "  <tbody>\n",
              "    <tr>\n",
              "      <th>0</th>\n",
              "      <td>64</td>\n",
              "      <td>20</td>\n",
              "      <td>2019-02-10 17:25:37.787</td>\n",
              "      <td>9</td>\n",
              "    </tr>\n",
              "    <tr>\n",
              "      <th>1</th>\n",
              "      <td>73</td>\n",
              "      <td>20</td>\n",
              "      <td>2019-02-10 17:25:37.787</td>\n",
              "      <td>6</td>\n",
              "    </tr>\n",
              "    <tr>\n",
              "      <th>2</th>\n",
              "      <td>63</td>\n",
              "      <td>20</td>\n",
              "      <td>2019-02-10 18:13:39.827</td>\n",
              "      <td>20</td>\n",
              "    </tr>\n",
              "    <tr>\n",
              "      <th>3</th>\n",
              "      <td>64</td>\n",
              "      <td>20</td>\n",
              "      <td>2019-02-10 18:13:39.827</td>\n",
              "      <td>6</td>\n",
              "    </tr>\n",
              "    <tr>\n",
              "      <th>4</th>\n",
              "      <td>65</td>\n",
              "      <td>19</td>\n",
              "      <td>2019-02-10 18:13:39.827</td>\n",
              "      <td>9</td>\n",
              "    </tr>\n",
              "    <tr>\n",
              "      <th>...</th>\n",
              "      <td>...</td>\n",
              "      <td>...</td>\n",
              "      <td>...</td>\n",
              "      <td>...</td>\n",
              "    </tr>\n",
              "    <tr>\n",
              "      <th>27542</th>\n",
              "      <td>260</td>\n",
              "      <td>20</td>\n",
              "      <td>2019-02-11 23:44:00.786</td>\n",
              "      <td>0</td>\n",
              "    </tr>\n",
              "    <tr>\n",
              "      <th>27543</th>\n",
              "      <td>261</td>\n",
              "      <td>19</td>\n",
              "      <td>2019-02-11 23:44:00.786</td>\n",
              "      <td>15</td>\n",
              "    </tr>\n",
              "    <tr>\n",
              "      <th>27544</th>\n",
              "      <td>268</td>\n",
              "      <td>10</td>\n",
              "      <td>2019-02-11 23:44:00.786</td>\n",
              "      <td>1</td>\n",
              "    </tr>\n",
              "    <tr>\n",
              "      <th>27545</th>\n",
              "      <td>269</td>\n",
              "      <td>15</td>\n",
              "      <td>2019-02-11 23:44:00.786</td>\n",
              "      <td>1</td>\n",
              "    </tr>\n",
              "    <tr>\n",
              "      <th>27546</th>\n",
              "      <td>276</td>\n",
              "      <td>20</td>\n",
              "      <td>2019-02-11 23:44:00.786</td>\n",
              "      <td>8</td>\n",
              "    </tr>\n",
              "  </tbody>\n",
              "</table>\n",
              "<p>27547 rows × 4 columns</p>\n",
              "</div>\n",
              "      <button class=\"colab-df-convert\" onclick=\"convertToInteractive('df-fd856e6e-e559-4245-b5ee-5e6470c876e4')\"\n",
              "              title=\"Convert this dataframe to an interactive table.\"\n",
              "              style=\"display:none;\">\n",
              "        \n",
              "  <svg xmlns=\"http://www.w3.org/2000/svg\" height=\"24px\"viewBox=\"0 0 24 24\"\n",
              "       width=\"24px\">\n",
              "    <path d=\"M0 0h24v24H0V0z\" fill=\"none\"/>\n",
              "    <path d=\"M18.56 5.44l.94 2.06.94-2.06 2.06-.94-2.06-.94-.94-2.06-.94 2.06-2.06.94zm-11 1L8.5 8.5l.94-2.06 2.06-.94-2.06-.94L8.5 2.5l-.94 2.06-2.06.94zm10 10l.94 2.06.94-2.06 2.06-.94-2.06-.94-.94-2.06-.94 2.06-2.06.94z\"/><path d=\"M17.41 7.96l-1.37-1.37c-.4-.4-.92-.59-1.43-.59-.52 0-1.04.2-1.43.59L10.3 9.45l-7.72 7.72c-.78.78-.78 2.05 0 2.83L4 21.41c.39.39.9.59 1.41.59.51 0 1.02-.2 1.41-.59l7.78-7.78 2.81-2.81c.8-.78.8-2.07 0-2.86zM5.41 20L4 18.59l7.72-7.72 1.47 1.35L5.41 20z\"/>\n",
              "  </svg>\n",
              "      </button>\n",
              "      \n",
              "  <style>\n",
              "    .colab-df-container {\n",
              "      display:flex;\n",
              "      flex-wrap:wrap;\n",
              "      gap: 12px;\n",
              "    }\n",
              "\n",
              "    .colab-df-convert {\n",
              "      background-color: #E8F0FE;\n",
              "      border: none;\n",
              "      border-radius: 50%;\n",
              "      cursor: pointer;\n",
              "      display: none;\n",
              "      fill: #1967D2;\n",
              "      height: 32px;\n",
              "      padding: 0 0 0 0;\n",
              "      width: 32px;\n",
              "    }\n",
              "\n",
              "    .colab-df-convert:hover {\n",
              "      background-color: #E2EBFA;\n",
              "      box-shadow: 0px 1px 2px rgba(60, 64, 67, 0.3), 0px 1px 3px 1px rgba(60, 64, 67, 0.15);\n",
              "      fill: #174EA6;\n",
              "    }\n",
              "\n",
              "    [theme=dark] .colab-df-convert {\n",
              "      background-color: #3B4455;\n",
              "      fill: #D2E3FC;\n",
              "    }\n",
              "\n",
              "    [theme=dark] .colab-df-convert:hover {\n",
              "      background-color: #434B5C;\n",
              "      box-shadow: 0px 1px 3px 1px rgba(0, 0, 0, 0.15);\n",
              "      filter: drop-shadow(0px 1px 2px rgba(0, 0, 0, 0.3));\n",
              "      fill: #FFFFFF;\n",
              "    }\n",
              "  </style>\n",
              "\n",
              "      <script>\n",
              "        const buttonEl =\n",
              "          document.querySelector('#df-fd856e6e-e559-4245-b5ee-5e6470c876e4 button.colab-df-convert');\n",
              "        buttonEl.style.display =\n",
              "          google.colab.kernel.accessAllowed ? 'block' : 'none';\n",
              "\n",
              "        async function convertToInteractive(key) {\n",
              "          const element = document.querySelector('#df-fd856e6e-e559-4245-b5ee-5e6470c876e4');\n",
              "          const dataTable =\n",
              "            await google.colab.kernel.invokeFunction('convertToInteractive',\n",
              "                                                     [key], {});\n",
              "          if (!dataTable) return;\n",
              "\n",
              "          const docLinkHtml = 'Like what you see? Visit the ' +\n",
              "            '<a target=\"_blank\" href=https://colab.research.google.com/notebooks/data_table.ipynb>data table notebook</a>'\n",
              "            + ' to learn more about interactive tables.';\n",
              "          element.innerHTML = '';\n",
              "          dataTable['output_type'] = 'display_data';\n",
              "          await google.colab.output.renderOutput(dataTable, element);\n",
              "          const docLink = document.createElement('div');\n",
              "          docLink.innerHTML = docLinkHtml;\n",
              "          element.appendChild(docLink);\n",
              "        }\n",
              "      </script>\n",
              "    </div>\n",
              "  </div>\n",
              "  "
            ]
          },
          "metadata": {}
        }
      ]
    },
    {
      "cell_type": "markdown",
      "source": [
        "# 02 - Obtención del número de estaciones que tienen un total de 30 bornetas"
      ],
      "metadata": {
        "id": "2BuhnKdUmLD2"
      }
    },
    {
      "cell_type": "code",
      "source": [
        "#creamos un nuevo dataFrame con las estaciones, total de bornetas \n",
        "#y la media de bicis disponibles\n",
        "df_borneta_by_station = df_station\\\n",
        "                          .groupby(['station', 'total'], as_index=False)\\\n",
        "                          .agg(mean_available=('available','mean'))\n",
        "\n",
        "#Contamos las estaciones que tienen 30 bornetas en total\n",
        "#primero filtramos por el campo total los que tienen 30 bornetas y luego hacemos un conteo\n",
        "ctd_station = df_borneta_by_station.query('total == 30').count()[0]\n",
        "\n",
        "#Mostramos el total de estaciones con 30 bornetas\n",
        "print(f'Total de estaciones con 30 bornetas es: {ctd_station}')"
      ],
      "metadata": {
        "colab": {
          "base_uri": "https://localhost:8080/"
        },
        "id": "vTfvg_Kjz1Bf",
        "outputId": "0bcbf09f-2e4d-4e82-f3ae-affd8e44ad7a"
      },
      "execution_count": 3,
      "outputs": [
        {
          "output_type": "stream",
          "name": "stdout",
          "text": [
            "Total de estaciones con 30 bornetas es: 11\n"
          ]
        }
      ]
    },
    {
      "cell_type": "markdown",
      "source": [
        "# 03 - Número de estación con la media más alta de bicis disponibles"
      ],
      "metadata": {
        "id": "F6iV1PyamLGr"
      }
    },
    {
      "cell_type": "code",
      "source": [
        "#Del dataFrame generado en la celda anterior\n",
        "#obtenemos la estación con la media más alta, para esto utilizamos la función sort_values\n",
        "#para ordenar de mayor a menor por la media de available y nos quedamos con el primer row\n",
        "#utilizando la función iloc[0]\n",
        "station_id = df_borneta_by_station.sort_values('mean_available', ascending=False)['station'].iloc[0]\n",
        "\n",
        "#Mostramos el id de la estación obtenida\n",
        "print(f'Número de estación con media más alta es: {station_id}')"
      ],
      "metadata": {
        "colab": {
          "base_uri": "https://localhost:8080/"
        },
        "id": "NROULns3eVUk",
        "outputId": "107fff40-fbfb-43bb-c05b-3b83d72220d4"
      },
      "execution_count": 4,
      "outputs": [
        {
          "output_type": "stream",
          "name": "stdout",
          "text": [
            "Número de estación con media más alta es: 50\n"
          ]
        }
      ]
    },
    {
      "cell_type": "markdown",
      "source": [
        "# 04 - Realizar el histograma de bicis disponibles de la estación del punto anterior"
      ],
      "metadata": {
        "id": "bHn75CUJmLJd"
      }
    },
    {
      "cell_type": "code",
      "source": [
        "#Del dataFrame inicial(df_estation) filtramos los registros capturados de la \n",
        "#estación obtenida en la celda anterior\n",
        "#utilizamo la función copy para evitar el settingwithcopywarning en los filtros \n",
        "#y asignaciones que utilizaremos más adelante. \n",
        "df_station_max_mean = df_station.query(f'station == {station_id}')\n",
        "\n",
        "#generamos una lista de la cantidad de biscis diponibles por cada medición del servicio web \n",
        "list_available = df_station_max_mean['available'].to_list()\n",
        "\n",
        "\n",
        "#definimos el tamaño del gráfico\n",
        "plot.figure(figsize=(15,5))\n",
        "\n",
        "#utilizamos la función hist para graficar un histograma\n",
        "#donde x es la lista de cantidad de biscis disponibles\n",
        "#bins es la lista de etiquetas del eje x\n",
        "plot.hist(x=list_available, bins=np.unique(list_available), color = \"blue\")\n",
        "\n",
        "#título del gráfico\n",
        "plot.title(f'Histograma de Bicis disponibles para la estación {station_id}')\n",
        "\n",
        "#título del eje X\n",
        "plot.xlabel('Available')\n",
        "\n",
        "#título del eje Y\n",
        "plot.ylabel('Frecuency')\n",
        "\n",
        "#pintamos el gráfico\n",
        "plot.show()"
      ],
      "metadata": {
        "colab": {
          "base_uri": "https://localhost:8080/",
          "height": 350
        },
        "id": "IXRaLiZA2kDL",
        "outputId": "0d95e9a5-3ec1-4a89-b1e9-84c751cf392f"
      },
      "execution_count": 5,
      "outputs": [
        {
          "output_type": "display_data",
          "data": {
            "text/plain": [
              "<Figure size 1080x360 with 1 Axes>"
            ],
            "image/png": "[encoded data removed]"
          },
          "metadata": {
            "needs_background": "light"
          }
        }
      ]
    },
    {
      "cell_type": "markdown",
      "source": [
        "# 05 - Realizar gráfica con la línea temporal de bicis disponibles de la estación del punto anterior. Pista, es necesario cambiar el índice a uno tipo fecha"
      ],
      "metadata": {
        "id": "W7uEXhBTmRNH"
      }
    },
    {
      "cell_type": "code",
      "source": [
        "#definimos el tamaño del gráfico\n",
        "plot.figure(figsize=(15,5))\n",
        "\n",
        "#utilizamos la función plot para graficar una linea de tiempo donde\n",
        "#el primer parámetro son las fechas obtenidas de la columna download_date\n",
        "#el segundo parámetro son los valores de la cantidad de biscis disponibles por cada download_date\n",
        "plot.plot(df_station_max_mean.download_date, df_station_max_mean.available)\n",
        "\n",
        "#título del gráfico\n",
        "plot.title(f'Linea temporal de biscis disponibles para la estación {station_id}')\n",
        "\n",
        "#título del eje X\n",
        "plot.xlabel('Fecha')\n",
        "\n",
        "#título del eje Y\n",
        "plot.ylabel('Cantidad de biscis disponibles')\n",
        "\n",
        "#pintamos el gráfico\n",
        "plot.show()"
      ],
      "metadata": {
        "colab": {
          "base_uri": "https://localhost:8080/",
          "height": 350
        },
        "id": "HO3gK4INx8cw",
        "outputId": "fe5036f2-4228-4667-beb5-c67ae03c4230"
      },
      "execution_count": 6,
      "outputs": [
        {
          "output_type": "display_data",
          "data": {
            "text/plain": [
              "<Figure size 1080x360 with 1 Axes>"
            ],
            "image/png": "[encoded data removed]"
          },
          "metadata": {
            "needs_background": "light"
          }
        }
      ]
    }
  ]
}